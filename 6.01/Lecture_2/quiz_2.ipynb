{
 "cells": [
  {
   "cell_type": "code",
   "execution_count": 29,
   "metadata": {
    "collapsed": true,
    "pycharm": {
     "is_executing": false
    }
   },
   "outputs": [],
   "source": [
    "class Hammock:\n",
    "    initial_state = ''\n",
    "    def __init__(self):\n",
    "        self.last_checker = Hammock.initial_state\n",
    "        self.occupants = 0\n",
    "        \n",
    "    def sit_down(self, name):\n",
    "        if not self.occupants:\n",
    "            self._sit()\n",
    "        else:\n",
    "            if self.last_checker == name:\n",
    "                self.last_checker = ''\n",
    "                self._sit()\n",
    "            else:\n",
    "                self.last_checker = name\n",
    "                print('sorry, no room')\n",
    "                \n",
    "    def leave(self):\n",
    "        if self.occupants:\n",
    "            self.occupants -= 1\n",
    "        print(self.occupants)\n",
    "                \n",
    "    def _sit(self):\n",
    "        self.occupants += 1\n",
    "        print('welcome!')"
   ]
  },
  {
   "cell_type": "code",
   "execution_count": 30,
   "outputs": [
    {
     "name": "stdout",
     "text": [
      "welcome!\n",
      "sorry, no room\n",
      "welcome!\n",
      "1\n",
      "0\n",
      "0\n",
      "welcome!\n",
      "sorry, no room\n",
      "sorry, no room\n",
      "sorry, no room\n",
      "0\n"
     ],
     "output_type": "stream"
    }
   ],
   "source": [
    "myHammock = Hammock()\n",
    "myHammock.sit_down('George')\n",
    "myHammock.sit_down('Bobby')\n",
    "myHammock.sit_down('Bobby')\n",
    "myHammock.leave()\n",
    "myHammock.leave()\n",
    "myHammock.leave()\n",
    "myHammock.sit_down('Martha')\n",
    "myHammock.sit_down('Wilhelm')\n",
    "myHammock.sit_down('Klaus')\n",
    "myHammock.sit_down('Wilhelm')\n",
    "myHammock.leave()"
   ],
   "metadata": {
    "collapsed": false,
    "pycharm": {
     "name": "#%%\n",
     "is_executing": false
    }
   }
  }
 ],
 "metadata": {
  "kernelspec": {
   "display_name": "Python 3",
   "language": "python",
   "name": "python3"
  },
  "language_info": {
   "codemirror_mode": {
    "name": "ipython",
    "version": 2
   },
   "file_extension": ".py",
   "mimetype": "text/x-python",
   "name": "python",
   "nbconvert_exporter": "python",
   "pygments_lexer": "ipython2",
   "version": "2.7.6"
  },
  "pycharm": {
   "stem_cell": {
    "cell_type": "raw",
    "source": [],
    "metadata": {
     "collapsed": false
    }
   }
  }
 },
 "nbformat": 4,
 "nbformat_minor": 0
}
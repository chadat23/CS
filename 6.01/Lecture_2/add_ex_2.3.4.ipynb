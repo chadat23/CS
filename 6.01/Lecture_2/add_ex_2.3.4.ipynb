{
 "cells": [
  {
   "cell_type": "markdown",
   "source": [
    "Part 1"
   ],
   "metadata": {
    "collapsed": false,
    "pycharm": {
     "name": "#%% md\n"
    }
   }
  },
  {
   "cell_type": "code",
   "execution_count": 7,
   "metadata": {
    "collapsed": true,
    "pycharm": {
     "is_executing": false
    }
   },
   "outputs": [],
   "source": [
    "def add(a, b):\n",
    "    if b == 0:\n",
    "        return a\n",
    "    else:\n",
    "        return add(a, b - 1) + 1"
   ]
  },
  {
   "cell_type": "code",
   "execution_count": 8,
   "outputs": [
    {
     "name": "stdout",
     "text": [
      "4 + 6 = 10\n10 + 11 = 21\n"
     ],
     "output_type": "stream"
    }
   ],
   "source": [
    "print(f'4 + 6 = {add(4, 6)}')\n",
    "print(f'10 + 11 = {add(10, 11)}')"
   ],
   "metadata": {
    "collapsed": false,
    "pycharm": {
     "name": "#%%\n",
     "is_executing": false
    }
   }
  },
  {
   "cell_type": "markdown",
   "source": [
    "Part 2.1:\n",
    "\n",
    "a can be any number and b must be a non-negative integer\n",
    "\n",
    "Part 2.2:\n",
    "\n",
    "5, 1\n",
    "\n",
    "5, 0\n",
    "\n",
    "Part 3:"
   ],
   "metadata": {
    "collapsed": false,
    "pycharm": {
     "name": "#%% md\n"
    }
   }
  },
  {
   "cell_type": "code",
   "execution_count": 9,
   "outputs": [],
   "source": [
    "def sub(a, b):\n",
    "    if b == 0:\n",
    "        return a\n",
    "    else:\n",
    "        return sub(a, b - 1) - 1"
   ],
   "metadata": {
    "collapsed": false,
    "pycharm": {
     "name": "#%%\n",
     "is_executing": false
    }
   }
  },
  {
   "cell_type": "code",
   "execution_count": 10,
   "outputs": [
    {
     "name": "stdout",
     "text": [
      "4 - 6 = -2\n10 - 11 = -1\n"
     ],
     "output_type": "stream"
    }
   ],
   "source": [
    "print(f'4 - 6 = {sub(4, 6)}')\n",
    "print(f'10 - 11 = {sub(10, 11)}')"
   ],
   "metadata": {
    "collapsed": false,
    "pycharm": {
     "name": "#%%\n",
     "is_executing": false
    }
   }
  }
 ],
 "metadata": {
  "kernelspec": {
   "display_name": "Python 3",
   "language": "python",
   "name": "python3"
  },
  "language_info": {
   "codemirror_mode": {
    "name": "ipython",
    "version": 2
   },
   "file_extension": ".py",
   "mimetype": "text/x-python",
   "name": "python",
   "nbconvert_exporter": "python",
   "pygments_lexer": "ipython2",
   "version": "2.7.6"
  },
  "pycharm": {
   "stem_cell": {
    "cell_type": "raw",
    "source": [],
    "metadata": {
     "collapsed": false
    }
   }
  }
 },
 "nbformat": 4,
 "nbformat_minor": 0
}
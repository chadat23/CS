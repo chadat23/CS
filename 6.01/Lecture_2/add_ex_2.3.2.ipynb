{
 "cells": [
  {
   "cell_type": "code",
   "source": [
    "class AccountPounds(AccountDollars):\n",
    "    super().__init__(self, amount * 2)\n",
    "    \n",
    "    def depositPounds(self, amount):\n",
    "        return self.depositDollars(amount * 2) / 2"
   ],
   "metadata": {
    "collapsed": false,
    "pycharm": {
     "name": "#%% \n"
    }
   },
   "execution_count": null,
   "outputs": []
  }
 ],
 "metadata": {
  "kernelspec": {
   "display_name": "Python 3",
   "language": "python",
   "name": "python3"
  },
  "language_info": {
   "codemirror_mode": {
    "name": "ipython",
    "version": 2
   },
   "file_extension": ".py",
   "mimetype": "text/x-python",
   "name": "python",
   "nbconvert_exporter": "python",
   "pygments_lexer": "ipython2",
   "version": "2.7.6"
  },
  "pycharm": {
   "stem_cell": {
    "cell_type": "raw",
    "source": [],
    "metadata": {
     "collapsed": false
    }
   }
  }
 },
 "nbformat": 4,
 "nbformat_minor": 0
}